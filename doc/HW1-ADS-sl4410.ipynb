{
 "cells": [
  {
   "cell_type": "code",
   "execution_count": 1,
   "metadata": {},
   "outputs": [
    {
     "data": {
      "text/html": [
       "\n",
       "        <script>\n",
       "            function code_toggle_2765158544519240521() {\n",
       "                $('div.cell.code_cell.rendered.selected').find('div.input').toggle();\n",
       "            }\n",
       "\n",
       "            \n",
       "        </script>\n",
       "\n",
       "        <a href=\"javascript:code_toggle_2765158544519240521()\">Toggle show/hide</a>\n",
       "    "
      ],
      "text/plain": [
       "<IPython.core.display.HTML object>"
      ]
     },
     "execution_count": 1,
     "metadata": {},
     "output_type": "execute_result"
    },
    {
     "data": {
      "text/html": [
       "\n",
       "        <script>\n",
       "            function code_toggle_2765158544519240521() {\n",
       "                $('div.cell.code_cell.rendered.selected').find('div.input').toggle();\n",
       "            }\n",
       "\n",
       "            \n",
       "        </script>\n",
       "\n",
       "        <a href=\"javascript:code_toggle_2765158544519240521()\">Toggle show/hide</a>\n",
       "    "
      ],
      "text/plain": [
       "<IPython.core.display.HTML object>"
      ]
     },
     "execution_count": 1,
     "metadata": {},
     "output_type": "execute_result"
    }
   ],
   "source": [
    "from IPython.display import HTML\n",
    "import random\n",
    "\n",
    "def hide_toggle(for_next=False):\n",
    "    this_cell = \"\"\"$('div.cell.code_cell.rendered.selected')\"\"\"\n",
    "    next_cell = this_cell + '.next()'\n",
    "\n",
    "    toggle_text = 'Toggle show/hide'  # text shown on toggle link\n",
    "    target_cell = this_cell  # target cell to control with toggle\n",
    "    js_hide_current = ''  # bit of JS to permanently hide code in current cell (only when toggling next cell)\n",
    "\n",
    "    if for_next:\n",
    "        target_cell = next_cell\n",
    "        toggle_text += ' next cell'\n",
    "        js_hide_current = this_cell + '.find(\"div.input\").hide();'\n",
    "\n",
    "    js_f_name = 'code_toggle_{}'.format(str(random.randint(1,2**64)))\n",
    "\n",
    "    html = \"\"\"\n",
    "        <script>\n",
    "            function {f_name}() {{\n",
    "                {cell_selector}.find('div.input').toggle();\n",
    "            }}\n",
    "\n",
    "            {js_hide_current}\n",
    "        </script>\n",
    "\n",
    "        <a href=\"javascript:{f_name}()\">{toggle_text}</a>\n",
    "    \"\"\".format(\n",
    "        f_name=js_f_name,\n",
    "        cell_selector=target_cell,\n",
    "        js_hide_current=js_hide_current, \n",
    "        toggle_text=toggle_text\n",
    "    )\n",
    "\n",
    "    return HTML(html)\n",
    "hide_toggle()"
   ]
  },
  {
   "cell_type": "code",
   "execution_count": 3,
   "metadata": {},
   "outputs": [],
   "source": [
    "import pandas as pd\n",
    "import matplotlib as mpl\n",
    "import matplotlib.pyplot as plt\n",
    "#import wordcloud\n",
    "from wordcloud.wordcloud import WordCloud\n",
    "from collections import Counter"
   ]
  },
  {
   "cell_type": "code",
   "execution_count": 7,
   "metadata": {},
   "outputs": [],
   "source": [
    "lyrics = pd.read_csv('/Users/rong/Documents/Columbia_python_jupyter_notebook/fall2019-proj1--Sixuan-Li/output/dt_lyrics.csv')\n",
    "artists = pd.read_csv('/Users/rong/Documents/Columbia_python_jupyter_notebook/fall2019-proj1--Sixuan-Li/data/artists.csv')"
   ]
  },
  {
   "cell_type": "code",
   "execution_count": 8,
   "metadata": {},
   "outputs": [
    {
     "data": {
      "text/plain": [
       "(125704, 8)"
      ]
     },
     "execution_count": 8,
     "metadata": {},
     "output_type": "execute_result"
    },
    {
     "data": {
      "text/plain": [
       "(125704, 8)"
      ]
     },
     "execution_count": 8,
     "metadata": {},
     "output_type": "execute_result"
    }
   ],
   "source": [
    "lyrics.shape"
   ]
  },
  {
   "cell_type": "code",
   "execution_count": 9,
   "metadata": {},
   "outputs": [
    {
     "data": {
      "text/plain": [
       "Unnamed: 0       int64\n",
       "song            object\n",
       "year             int64\n",
       "artist          object\n",
       "genre           object\n",
       "lyrics          object\n",
       "id               int64\n",
       "stemmedwords    object\n",
       "dtype: object"
      ]
     },
     "execution_count": 9,
     "metadata": {},
     "output_type": "execute_result"
    },
    {
     "data": {
      "text/plain": [
       "Unnamed: 0       int64\n",
       "song            object\n",
       "year             int64\n",
       "artist          object\n",
       "genre           object\n",
       "lyrics          object\n",
       "id               int64\n",
       "stemmedwords    object\n",
       "dtype: object"
      ]
     },
     "execution_count": 9,
     "metadata": {},
     "output_type": "execute_result"
    }
   ],
   "source": [
    "lyrics.dtypes"
   ]
  },
  {
   "cell_type": "code",
   "execution_count": 6,
   "metadata": {},
   "outputs": [
    {
     "data": {
      "text/html": [
       "<div>\n",
       "<style scoped>\n",
       "    .dataframe tbody tr th:only-of-type {\n",
       "        vertical-align: middle;\n",
       "    }\n",
       "\n",
       "    .dataframe tbody tr th {\n",
       "        vertical-align: top;\n",
       "    }\n",
       "\n",
       "    .dataframe thead th {\n",
       "        text-align: right;\n",
       "    }\n",
       "</style>\n",
       "<table border=\"1\" class=\"dataframe\">\n",
       "  <thead>\n",
       "    <tr style=\"text-align: right;\">\n",
       "      <th></th>\n",
       "      <th>Unnamed: 0</th>\n",
       "      <th>song</th>\n",
       "      <th>year</th>\n",
       "      <th>artist</th>\n",
       "      <th>genre</th>\n",
       "      <th>lyrics</th>\n",
       "      <th>id</th>\n",
       "      <th>stemmedwords</th>\n",
       "    </tr>\n",
       "  </thead>\n",
       "  <tbody>\n",
       "    <tr>\n",
       "      <th>0</th>\n",
       "      <td>1</td>\n",
       "      <td>when-you-were-with-me</td>\n",
       "      <td>2009</td>\n",
       "      <td>a</td>\n",
       "      <td>Hip-Hop</td>\n",
       "      <td>I stopped by the house we called our home\\nIt ...</td>\n",
       "      <td>1</td>\n",
       "      <td>stop house call home rundown grass overgrown s...</td>\n",
       "    </tr>\n",
       "    <tr>\n",
       "      <th>1</th>\n",
       "      <td>2</td>\n",
       "      <td>careless-whisper</td>\n",
       "      <td>2009</td>\n",
       "      <td>a</td>\n",
       "      <td>Hip-Hop</td>\n",
       "      <td>I feel so unsure\\nAs I take your hand and lead...</td>\n",
       "      <td>2</td>\n",
       "      <td>unsure hand lead dance floor music die eyes ca...</td>\n",
       "    </tr>\n",
       "    <tr>\n",
       "      <th>2</th>\n",
       "      <td>3</td>\n",
       "      <td>2-59</td>\n",
       "      <td>2007</td>\n",
       "      <td>a</td>\n",
       "      <td>Hip-Hop</td>\n",
       "      <td>Mark:] Sunday football I got boot off the pitc...</td>\n",
       "      <td>3</td>\n",
       "      <td>mark sunday football boots pitch people gamble...</td>\n",
       "    </tr>\n",
       "    <tr>\n",
       "      <th>3</th>\n",
       "      <td>4</td>\n",
       "      <td>power-of-desire</td>\n",
       "      <td>2007</td>\n",
       "      <td>a</td>\n",
       "      <td>Hip-Hop</td>\n",
       "      <td>[Chris:] Fallin' for a fantasy\\nI threw away m...</td>\n",
       "      <td>4</td>\n",
       "      <td>chris fallin fantasy threw destiny stop feelin...</td>\n",
       "    </tr>\n",
       "    <tr>\n",
       "      <th>4</th>\n",
       "      <td>5</td>\n",
       "      <td>you-re-not-in-love</td>\n",
       "      <td>2007</td>\n",
       "      <td>a</td>\n",
       "      <td>Hip-Hop</td>\n",
       "      <td>something in the way we touch\\nyou hold my han...</td>\n",
       "      <td>5</td>\n",
       "      <td>touch hold hand hold somethings change somethi...</td>\n",
       "    </tr>\n",
       "  </tbody>\n",
       "</table>\n",
       "</div>"
      ],
      "text/plain": [
       "   Unnamed: 0                   song  year artist    genre  \\\n",
       "0           1  when-you-were-with-me  2009      a  Hip-Hop   \n",
       "1           2       careless-whisper  2009      a  Hip-Hop   \n",
       "2           3                   2-59  2007      a  Hip-Hop   \n",
       "3           4        power-of-desire  2007      a  Hip-Hop   \n",
       "4           5     you-re-not-in-love  2007      a  Hip-Hop   \n",
       "\n",
       "                                              lyrics  id  \\\n",
       "0  I stopped by the house we called our home\\nIt ...   1   \n",
       "1  I feel so unsure\\nAs I take your hand and lead...   2   \n",
       "2  Mark:] Sunday football I got boot off the pitc...   3   \n",
       "3  [Chris:] Fallin' for a fantasy\\nI threw away m...   4   \n",
       "4  something in the way we touch\\nyou hold my han...   5   \n",
       "\n",
       "                                        stemmedwords  \n",
       "0  stop house call home rundown grass overgrown s...  \n",
       "1  unsure hand lead dance floor music die eyes ca...  \n",
       "2  mark sunday football boots pitch people gamble...  \n",
       "3  chris fallin fantasy threw destiny stop feelin...  \n",
       "4  touch hold hand hold somethings change somethi...  "
      ]
     },
     "execution_count": 6,
     "metadata": {},
     "output_type": "execute_result"
    }
   ],
   "source": [
    "lyrics.head()"
   ]
  },
  {
   "cell_type": "code",
   "execution_count": 37,
   "metadata": {},
   "outputs": [
    {
     "data": {
      "text/plain": [
       "<matplotlib.axes._subplots.AxesSubplot at 0x123198358>"
      ]
     },
     "execution_count": 37,
     "metadata": {},
     "output_type": "execute_result"
    },
    {
     "data": {
      "image/png": "[encoded data removed]",
      "text/plain": [
       "<Figure size 432x288 with 1 Axes>"
      ]
     },
     "metadata": {
      "needs_background": "light"
     },
     "output_type": "display_data"
    }
   ],
   "source": [
    "lyrics['genre'].value_counts().plot.bar()"
   ]
  },
  {
   "cell_type": "code",
   "execution_count": 17,
   "metadata": {},
   "outputs": [
    {
     "data": {
      "text/plain": [
       "Index(['Unnamed: 0', 'song', 'year', 'artist', 'genre', 'lyrics', 'id',\n",
       "       'stemmedwords'],\n",
       "      dtype='object')"
      ]
     },
     "execution_count": 17,
     "metadata": {},
     "output_type": "execute_result"
    }
   ],
   "source": [
    "lyrics.columns"
   ]
  },
  {
   "cell_type": "code",
   "execution_count": 12,
   "metadata": {},
   "outputs": [
    {
     "data": {
      "text/plain": [
       "['Indie',\n",
       " 'Pop',\n",
       " 'Metal',\n",
       " 'Electronic',\n",
       " 'Jazz',\n",
       " 'Not Available',\n",
       " 'Other',\n",
       " 'R&B',\n",
       " 'Rock',\n",
       " 'Hip-Hop',\n",
       " 'Country',\n",
       " 'Folk']"
      ]
     },
     "execution_count": 12,
     "metadata": {},
     "output_type": "execute_result"
    }
   ],
   "source": [
    "genre_list = list(set(lyrics['genre']))\n"
   ]
  },
  {
   "cell_type": "code",
   "execution_count": 22,
   "metadata": {},
   "outputs": [],
   "source": [
    "keep_coulms_label = [ 'song', 'year', 'artist', 'genre', 'id', 'stemmedwords']"
   ]
  },
  {
   "cell_type": "code",
   "execution_count": 132,
   "metadata": {},
   "outputs": [],
   "source": [
    "df_add_pop = df_add_words(df_genre('Pop'))\n",
    "l_pop = list_all_words(df_add_pop)"
   ]
  },
  {
   "cell_type": "code",
   "execution_count": 131,
   "metadata": {},
   "outputs": [],
   "source": [
    "def df_genre(genre):\n",
    "    \"\"\"sub original lyrics dataframe by genre\n",
    "    Input\n",
    "    ------\n",
    "        genre: different genre, a list, no duplicate variable\n",
    "    Return\n",
    "    ------\n",
    "        dataframe that only contain rows that belong to input genre\"\"\"\n",
    "    dataframe_all =  lyrics[lyrics['genre']==genre]\n",
    "    return dataframe_all[keep_coulms_label]\n",
    "    \n",
    "def series_stemmedwords (dataframe_genre):\n",
    "    \"\"\"return a pandas series that only contain stemmedwords\"\"\"\n",
    "    return dataframe_genre['stemmedwords']\n",
    "\n",
    "def df_add_words(dataframe_genre):\n",
    "    #https://sigdelta.com/blog/text-analysis-in-pandas/\n",
    "    dataframe_genre_add = dataframe_genre.copy()\n",
    "    dataframe_genre_add['words'] = dataframe_genre_add.stemmedwords.str.strip().str.split('[\\W_]+')\n",
    "    return dataframe_genre_add\n",
    "\n",
    "def list_all_words(dataframe_add):\n",
    "    \"\"\"get a list contain all words in stemmwords\n",
    "    Input\n",
    "    -----\n",
    "        dataframe_add : a dataframe, should be the one add words col\n",
    "    Return\n",
    "    ----\n",
    "        a list contain every words from words col\"\"\"\n",
    "\n",
    "    combine_list_words = list()\n",
    "    for l in dataframe_add['words']:\n",
    "        combine_list_words.append(l)\n",
    "    combine_list_words = [val for sublist in combine_list_words for val in sublist] \n",
    "    return combine_list_words\n",
    "\n",
    "def float_words_using(dataframe_add):\n",
    "    return len(set(list_all_words(dataframe_add)))/len(list_all_words(dataframe_add))\n",
    "\n",
    "def df_counts_words(list_words,int_common = None):\n",
    "    \"\"\"get a df with only words and counts\n",
    "    Input\n",
    "    ----\n",
    "        list_words: a list of words that want to count,should be the output of list_all_words\n",
    "        int_common: a int, the first how many words with highest freq want to show\n",
    "    Return\n",
    "    ------\n",
    "        a dataframe that only contain words and counts, from max to min order\"\"\"\n",
    "    conuts = Counter(list_words)\n",
    "    df_counts = pd.DataFrame(\n",
    "    {'words': \n",
    "list(counts.keys()),\n",
    "     'counts': \n",
    "list(counts.values())\n",
    "    })\n",
    "    df_counts = df_counts.sort_values('counts',ascending=False)\n",
    "    if int_common is not None:\n",
    "        return df_counts.iloc[0:int_common]\n",
    "    return df_counts\n",
    "\n",
    "def word_cloud_plot(list_words,int_common=None):\n",
    "    #https://stackoverflow.com/questions/38465478/wordcloud-from-data-frame-with-frequency-python\n",
    "    d = {}\n",
    "    for a, x in df_counts_words(list_words,int_common).values:\n",
    "        d[a] = x\n",
    "    #convert list to string and generate\n",
    "    unique_string=(\" \").join(list_words)\n",
    "    wordcloud = WordCloud(width = 1000, height = 500).generate(unique_string)\n",
    "    wordcloud.generate_from_frequencies(frequencies=d)\n",
    "    plt.figure(figsize=(15,8))\n",
    "    plt.imshow(wordcloud)\n",
    "    plt.axis(\"off\")\n",
    "    plt.savefig(\"your_file_name\"+\".png\", bbox_inches='tight')\n",
    "    plt.show()\n",
    "    plt.close()\n",
    "\n"
   ]
  },
  {
   "cell_type": "code",
   "execution_count": null,
   "metadata": {},
   "outputs": [],
   "source": []
  }
 ],
 "metadata": {
  "celltoolbar": "Raw Cell Format",
  "kernelspec": {
   "display_name": "Python 3",
   "language": "python",
   "name": "python3"
  },
  "language_info": {
   "codemirror_mode": {
    "name": "ipython",
    "version": 3
   },
   "file_extension": ".py",
   "mimetype": "text/x-python",
   "name": "python",
   "nbconvert_exporter": "python",
   "pygments_lexer": "ipython3",
   "version": "3.7.1"
  }
 },
 "nbformat": 4,
 "nbformat_minor": 2
}
